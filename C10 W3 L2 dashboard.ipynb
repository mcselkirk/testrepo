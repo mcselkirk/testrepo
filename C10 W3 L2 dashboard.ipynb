{
 "cells": [
  {
   "cell_type": "code",
   "execution_count": 1,
   "id": "ca39bba0",
   "metadata": {},
   "outputs": [
    {
     "name": "stdout",
     "output_type": "stream",
     "text": [
      "Requirement already satisfied: dash==1.19.0 in c:\\users\\marianne\\anaconda3\\lib\\site-packages (1.19.0)\n",
      "Requirement already satisfied: flask-compress in c:\\users\\marianne\\anaconda3\\lib\\site-packages (from dash==1.19.0) (1.13)\n",
      "Requirement already satisfied: dash-table==4.11.2 in c:\\users\\marianne\\anaconda3\\lib\\site-packages (from dash==1.19.0) (4.11.2)\n",
      "Requirement already satisfied: dash-html-components==1.1.2 in c:\\users\\marianne\\anaconda3\\lib\\site-packages (from dash==1.19.0) (1.1.2)\n",
      "Requirement already satisfied: future in c:\\users\\marianne\\anaconda3\\lib\\site-packages (from dash==1.19.0) (0.18.2)\n",
      "Requirement already satisfied: dash-renderer==1.9.0 in c:\\users\\marianne\\anaconda3\\lib\\site-packages (from dash==1.19.0) (1.9.0)\n",
      "Requirement already satisfied: plotly in c:\\users\\marianne\\anaconda3\\lib\\site-packages (from dash==1.19.0) (5.13.1)\n",
      "Requirement already satisfied: dash-core-components==1.15.0 in c:\\users\\marianne\\anaconda3\\lib\\site-packages (from dash==1.19.0) (1.15.0)\n",
      "Requirement already satisfied: Flask>=1.0.4 in c:\\users\\marianne\\anaconda3\\lib\\site-packages (from dash==1.19.0) (1.1.2)\n",
      "Requirement already satisfied: itsdangerous>=0.24 in c:\\users\\marianne\\anaconda3\\lib\\site-packages (from Flask>=1.0.4->dash==1.19.0) (2.0.1)\n",
      "Requirement already satisfied: Werkzeug>=0.15 in c:\\users\\marianne\\anaconda3\\lib\\site-packages (from Flask>=1.0.4->dash==1.19.0) (2.0.3)\n",
      "Requirement already satisfied: Jinja2>=2.10.1 in c:\\users\\marianne\\anaconda3\\lib\\site-packages (from Flask>=1.0.4->dash==1.19.0) (2.11.3)\n",
      "Requirement already satisfied: click>=5.1 in c:\\users\\marianne\\anaconda3\\lib\\site-packages (from Flask>=1.0.4->dash==1.19.0) (8.0.4)\n",
      "Requirement already satisfied: brotli in c:\\users\\marianne\\anaconda3\\lib\\site-packages (from flask-compress->dash==1.19.0) (1.0.9)\n",
      "Requirement already satisfied: tenacity>=6.2.0 in c:\\users\\marianne\\anaconda3\\lib\\site-packages (from plotly->dash==1.19.0) (8.0.1)\n",
      "Requirement already satisfied: colorama in c:\\users\\marianne\\anaconda3\\lib\\site-packages (from click>=5.1->Flask>=1.0.4->dash==1.19.0) (0.4.5)\n",
      "Requirement already satisfied: MarkupSafe>=0.23 in c:\\users\\marianne\\anaconda3\\lib\\site-packages (from Jinja2>=2.10.1->Flask>=1.0.4->dash==1.19.0) (2.0.1)\n",
      "Requirement already satisfied: jupyter_dash in c:\\users\\marianne\\anaconda3\\lib\\site-packages (0.4.2)\n",
      "Requirement already satisfied: ansi2html in c:\\users\\marianne\\anaconda3\\lib\\site-packages (from jupyter_dash) (1.8.0)\n",
      "Requirement already satisfied: ipython in c:\\users\\marianne\\anaconda3\\lib\\site-packages (from jupyter_dash) (7.31.1)\n",
      "Requirement already satisfied: nest-asyncio in c:\\users\\marianne\\anaconda3\\lib\\site-packages (from jupyter_dash) (1.5.5)\n",
      "Requirement already satisfied: retrying in c:\\users\\marianne\\anaconda3\\lib\\site-packages (from jupyter_dash) (1.3.4)\n",
      "Requirement already satisfied: ipykernel in c:\\users\\marianne\\anaconda3\\lib\\site-packages (from jupyter_dash) (6.15.2)\n",
      "Requirement already satisfied: dash in c:\\users\\marianne\\anaconda3\\lib\\site-packages (from jupyter_dash) (1.19.0)\n",
      "Requirement already satisfied: flask in c:\\users\\marianne\\anaconda3\\lib\\site-packages (from jupyter_dash) (1.1.2)\n",
      "Requirement already satisfied: requests in c:\\users\\marianne\\anaconda3\\lib\\site-packages (from jupyter_dash) (2.28.1)\n",
      "Requirement already satisfied: future in c:\\users\\marianne\\anaconda3\\lib\\site-packages (from dash->jupyter_dash) (0.18.2)\n",
      "Requirement already satisfied: plotly in c:\\users\\marianne\\anaconda3\\lib\\site-packages (from dash->jupyter_dash) (5.13.1)\n",
      "Requirement already satisfied: dash-renderer==1.9.0 in c:\\users\\marianne\\anaconda3\\lib\\site-packages (from dash->jupyter_dash) (1.9.0)\n",
      "Requirement already satisfied: flask-compress in c:\\users\\marianne\\anaconda3\\lib\\site-packages (from dash->jupyter_dash) (1.13)\n",
      "Requirement already satisfied: dash-core-components==1.15.0 in c:\\users\\marianne\\anaconda3\\lib\\site-packages (from dash->jupyter_dash) (1.15.0)\n",
      "Requirement already satisfied: dash-table==4.11.2 in c:\\users\\marianne\\anaconda3\\lib\\site-packages (from dash->jupyter_dash) (4.11.2)\n",
      "Requirement already satisfied: dash-html-components==1.1.2 in c:\\users\\marianne\\anaconda3\\lib\\site-packages (from dash->jupyter_dash) (1.1.2)\n",
      "Requirement already satisfied: Werkzeug>=0.15 in c:\\users\\marianne\\anaconda3\\lib\\site-packages (from flask->jupyter_dash) (2.0.3)\n",
      "Requirement already satisfied: click>=5.1 in c:\\users\\marianne\\anaconda3\\lib\\site-packages (from flask->jupyter_dash) (8.0.4)\n",
      "Requirement already satisfied: itsdangerous>=0.24 in c:\\users\\marianne\\anaconda3\\lib\\site-packages (from flask->jupyter_dash) (2.0.1)\n",
      "Requirement already satisfied: Jinja2>=2.10.1 in c:\\users\\marianne\\anaconda3\\lib\\site-packages (from flask->jupyter_dash) (2.11.3)\n",
      "Requirement already satisfied: tornado>=6.1 in c:\\users\\marianne\\anaconda3\\lib\\site-packages (from ipykernel->jupyter_dash) (6.1)\n",
      "Requirement already satisfied: jupyter-client>=6.1.12 in c:\\users\\marianne\\anaconda3\\lib\\site-packages (from ipykernel->jupyter_dash) (7.3.4)\n",
      "Requirement already satisfied: debugpy>=1.0 in c:\\users\\marianne\\anaconda3\\lib\\site-packages (from ipykernel->jupyter_dash) (1.5.1)\n",
      "Requirement already satisfied: psutil in c:\\users\\marianne\\anaconda3\\lib\\site-packages (from ipykernel->jupyter_dash) (5.9.0)\n",
      "Requirement already satisfied: pyzmq>=17 in c:\\users\\marianne\\anaconda3\\lib\\site-packages (from ipykernel->jupyter_dash) (23.2.0)\n",
      "Requirement already satisfied: matplotlib-inline>=0.1 in c:\\users\\marianne\\anaconda3\\lib\\site-packages (from ipykernel->jupyter_dash) (0.1.6)\n",
      "Requirement already satisfied: packaging in c:\\users\\marianne\\anaconda3\\lib\\site-packages (from ipykernel->jupyter_dash) (21.3)\n",
      "Requirement already satisfied: traitlets>=5.1.0 in c:\\users\\marianne\\anaconda3\\lib\\site-packages (from ipykernel->jupyter_dash) (5.1.1)\n",
      "Requirement already satisfied: pygments in c:\\users\\marianne\\anaconda3\\lib\\site-packages (from ipython->jupyter_dash) (2.11.2)\n",
      "Requirement already satisfied: decorator in c:\\users\\marianne\\anaconda3\\lib\\site-packages (from ipython->jupyter_dash) (5.1.1)\n",
      "Requirement already satisfied: backcall in c:\\users\\marianne\\anaconda3\\lib\\site-packages (from ipython->jupyter_dash) (0.2.0)\n",
      "Requirement already satisfied: colorama in c:\\users\\marianne\\anaconda3\\lib\\site-packages (from ipython->jupyter_dash) (0.4.5)\n",
      "Requirement already satisfied: pickleshare in c:\\users\\marianne\\anaconda3\\lib\\site-packages (from ipython->jupyter_dash) (0.7.5)\n",
      "Requirement already satisfied: prompt-toolkit!=3.0.0,!=3.0.1,<3.1.0,>=2.0.0 in c:\\users\\marianne\\anaconda3\\lib\\site-packages (from ipython->jupyter_dash) (3.0.20)\n",
      "Requirement already satisfied: setuptools>=18.5 in c:\\users\\marianne\\anaconda3\\lib\\site-packages (from ipython->jupyter_dash) (63.4.1)\n",
      "Requirement already satisfied: jedi>=0.16 in c:\\users\\marianne\\anaconda3\\lib\\site-packages (from ipython->jupyter_dash) (0.18.1)\n",
      "Requirement already satisfied: charset-normalizer<3,>=2 in c:\\users\\marianne\\anaconda3\\lib\\site-packages (from requests->jupyter_dash) (2.0.4)\n",
      "Requirement already satisfied: urllib3<1.27,>=1.21.1 in c:\\users\\marianne\\anaconda3\\lib\\site-packages (from requests->jupyter_dash) (1.26.11)\n",
      "Requirement already satisfied: idna<4,>=2.5 in c:\\users\\marianne\\anaconda3\\lib\\site-packages (from requests->jupyter_dash) (3.3)\n",
      "Requirement already satisfied: certifi>=2017.4.17 in c:\\users\\marianne\\anaconda3\\lib\\site-packages (from requests->jupyter_dash) (2022.9.14)\n",
      "Requirement already satisfied: six>=1.7.0 in c:\\users\\marianne\\anaconda3\\lib\\site-packages (from retrying->jupyter_dash) (1.16.0)\n",
      "Requirement already satisfied: parso<0.9.0,>=0.8.0 in c:\\users\\marianne\\anaconda3\\lib\\site-packages (from jedi>=0.16->ipython->jupyter_dash) (0.8.3)\n",
      "Requirement already satisfied: MarkupSafe>=0.23 in c:\\users\\marianne\\anaconda3\\lib\\site-packages (from Jinja2>=2.10.1->flask->jupyter_dash) (2.0.1)\n",
      "Requirement already satisfied: jupyter-core>=4.9.2 in c:\\users\\marianne\\anaconda3\\lib\\site-packages (from jupyter-client>=6.1.12->ipykernel->jupyter_dash) (4.11.1)\n",
      "Requirement already satisfied: entrypoints in c:\\users\\marianne\\anaconda3\\lib\\site-packages (from jupyter-client>=6.1.12->ipykernel->jupyter_dash) (0.4)\n",
      "Requirement already satisfied: python-dateutil>=2.8.2 in c:\\users\\marianne\\anaconda3\\lib\\site-packages (from jupyter-client>=6.1.12->ipykernel->jupyter_dash) (2.8.2)\n",
      "Requirement already satisfied: wcwidth in c:\\users\\marianne\\anaconda3\\lib\\site-packages (from prompt-toolkit!=3.0.0,!=3.0.1,<3.1.0,>=2.0.0->ipython->jupyter_dash) (0.2.5)\n",
      "Requirement already satisfied: brotli in c:\\users\\marianne\\anaconda3\\lib\\site-packages (from flask-compress->dash->jupyter_dash) (1.0.9)\n",
      "Requirement already satisfied: pyparsing!=3.0.5,>=2.0.2 in c:\\users\\marianne\\anaconda3\\lib\\site-packages (from packaging->ipykernel->jupyter_dash) (3.0.9)\n",
      "Requirement already satisfied: tenacity>=6.2.0 in c:\\users\\marianne\\anaconda3\\lib\\site-packages (from plotly->dash->jupyter_dash) (8.0.1)\n",
      "Requirement already satisfied: pywin32>=1.0 in c:\\users\\marianne\\anaconda3\\lib\\site-packages (from jupyter-core>=4.9.2->jupyter-client>=6.1.12->ipykernel->jupyter_dash) (302)\n",
      "Requirement already satisfied: plotly in c:\\users\\marianne\\anaconda3\\lib\\site-packages (5.13.1)\n",
      "Requirement already satisfied: tenacity>=6.2.0 in c:\\users\\marianne\\anaconda3\\lib\\site-packages (from plotly) (8.0.1)\n"
     ]
    }
   ],
   "source": [
    "!pip install dash==1.19.0  \n",
    "!pip install jupyter_dash \n",
    "!pip install --upgrade plotly"
   ]
  },
  {
   "cell_type": "code",
   "execution_count": 2,
   "id": "bb157bbf",
   "metadata": {},
   "outputs": [],
   "source": [
    "# Import required libraries\n",
    "import pandas as pd\n",
    "import dash\n",
    "from jupyter_dash import JupyterDash\n",
    "import dash_html_components as html\n",
    "import dash_core_components as dcc\n",
    "from dash.dependencies import Input, Output\n",
    "import plotly.express as px\n",
    "import plotly.graph_objects as go"
   ]
  },
  {
   "cell_type": "code",
   "execution_count": 3,
   "id": "d71eedb6",
   "metadata": {},
   "outputs": [],
   "source": [
    "# Read the airline data into pandas dataframe\n",
    "spacex_df = pd.read_csv(\"https://cf-courses-data.s3.us.cloud-object-storage.appdomain.cloud/IBM-DS0321EN-SkillsNetwork/datasets/spacex_launch_dash.csv\")\n",
    "max_payload = spacex_df['Payload Mass (kg)'].max()\n",
    "min_payload = spacex_df['Payload Mass (kg)'].min()"
   ]
  },
  {
   "cell_type": "code",
   "execution_count": 4,
   "id": "a51976e9",
   "metadata": {},
   "outputs": [],
   "source": [
    "# Create a dash application\n",
    "app = JupyterDash(__name__)"
   ]
  },
  {
   "cell_type": "code",
   "execution_count": 5,
   "id": "d13f3ed2",
   "metadata": {},
   "outputs": [],
   "source": [
    "# Create an app layout\n",
    "app.layout = html.Div(children=[html.H1('SpaceX Launch Records Dashboard',\n",
    "                                        style={'textAlign': 'center', 'color': '#503D36',\n",
    "                                               'font-size': 40}),\n",
    "                                # TASK 1: Add a dropdown list to enable Launch Site selection\n",
    "                                # The default select value is for ALL sites\n",
    "                                # dcc.Dropdown(id='site-dropdown',...)\n",
    "                                dcc.Dropdown(id='site-dropdown',\n",
    "                                            options=[\n",
    "                                                 {'label': 'All Sites', 'value': 'All Sites'},\n",
    "                                                 {'label': 'CCAFS LC-40', 'value': 'CCAFS LC-40'},\n",
    "                                                 {'label': 'CCAFS SLC-40', 'value': 'CCAFS SLC-40'},\n",
    "                                                 {'label': 'KSC LC-39A', 'value': 'KSC LC-39A'},\n",
    "                                                 {'label': 'VAFB SLC-4E', 'value': 'VAFB SLC-4E'}\n",
    "                                                 ],\n",
    "                                             value='All Sites',\n",
    "                                             placeholder=\"Select a launch site\",\n",
    "                                             searchable=True\n",
    "                                             ),\n",
    "                                html.Br(),\n",
    "\n",
    "                                # TASK 2: Add a pie chart to show the total successful launches count for all sites\n",
    "                                # If a specific launch site was selected, show the Success vs. Failed counts for the site\n",
    "                                html.Div(dcc.Graph(id='success-pie-chart')),\n",
    "                                html.Br(),\n",
    "\n",
    "                                html.P(\"Payload range (Kg):\"),\n",
    "                                # TASK 3: Add a slider to select payload range\n",
    "                                #dcc.RangeSlider(id='payload-slider',...)\n",
    "                                dcc.RangeSlider(id='payload-slider',\n",
    "                                        min=0, max=10000, step=1000,\n",
    "                                        marks={0: '0',1000: '1000',2000: '2000',3000: '3000', 4000: '4000',5000: '5000',6000: '6000',7000: '7000',8000: '8000',9000: '9000',10000: '10000'},\n",
    "                                        value=[min_payload, max_payload]),\n",
    "\n",
    "                                # TASK 4: Add a scatter chart to show the correlation between payload and launch success\n",
    "                                html.Div(dcc.Graph(id='success-payload-scatter-chart')),\n",
    "                                ])"
   ]
  },
  {
   "cell_type": "code",
   "execution_count": 6,
   "id": "88a81e24",
   "metadata": {},
   "outputs": [],
   "source": [
    "# TASK 2:\n",
    "# Add a callback function for `site-dropdown` as input, `success-pie-chart` as output\n",
    "@app.callback(Output(component_id='success-pie-chart', component_property='figure'),\n",
    "              Input(component_id='site-dropdown', component_property='value'))\n",
    "def get_pie_chart(entered_site):\n",
    "    spacex_1_df=spacex_df\n",
    "    if entered_site == 'All Sites':\n",
    "        fig = px.pie(spacex_1_df, values='class', \n",
    "        names='Launch Site', \n",
    "        title='Total Successful Launches by Site')\n",
    "        return fig\n",
    "    else:\n",
    "        spacex_1_df=spacex_df[spacex_df['Launch Site']==entered_site]\n",
    "        spacex_1_df=spacex_1_df.groupby(['Launch Site','class']).size().reset_index(name='class count') \n",
    "        fig = px.pie(spacex_1_df, \n",
    "            values='class count',\n",
    "            names='class',\n",
    "            title=f\"Total Successful Launches for {entered_site}\"\n",
    "        )\n",
    "        return fig"
   ]
  },
  {
   "cell_type": "code",
   "execution_count": 7,
   "id": "8ae021e2",
   "metadata": {},
   "outputs": [],
   "source": [
    "# TASK 4:\n",
    "# Add a callback function for `site-dropdown` and `payload-slider` as inputs, `success-payload-scatter-chart` as output\n",
    "@app.callback(Output(component_id='success-payload-scatter-chart',component_property='figure'),\n",
    "                [Input(component_id='site-dropdown',component_property='value'),\n",
    "                Input(component_id='payload-slider',component_property='value')])\n",
    "\n",
    "def scatter(entered_site,payload):\n",
    "    spacex_1_df = spacex_df[spacex_df['Payload Mass (kg)'].between(payload[0],payload[1])]\n",
    "       \n",
    "    if entered_site=='All Sites':\n",
    "        fig=px.scatter(spacex_1_df,x='Payload Mass (kg)',y='class',color='Booster Version Category',\n",
    "                       title='Success count on Payload mass for all sites')\n",
    "        return fig\n",
    "    else:\n",
    "        fig=px.scatter(spacex_1_df[spacex_1_df['Launch Site']==entered_site],x='Payload Mass (kg)',y='class',\n",
    "                      color='Booster Version Category',title=f\"Success count on Payload mass for {entered_site}\")\n",
    "        return fig"
   ]
  },
  {
   "cell_type": "code",
   "execution_count": 8,
   "id": "edc9de3f",
   "metadata": {},
   "outputs": [
    {
     "name": "stdout",
     "output_type": "stream",
     "text": [
      "Dash app running on http://127.0.0.1:8093/\n"
     ]
    }
   ],
   "source": [
    "# Run the app\n",
    "if __name__ == '__main__':\n",
    "    app.run_server(mode='external', port = 8093)"
   ]
  }
 ],
 "metadata": {
  "kernelspec": {
   "display_name": "Python 3 (ipykernel)",
   "language": "python",
   "name": "python3"
  },
  "language_info": {
   "codemirror_mode": {
    "name": "ipython",
    "version": 3
   },
   "file_extension": ".py",
   "mimetype": "text/x-python",
   "name": "python",
   "nbconvert_exporter": "python",
   "pygments_lexer": "ipython3",
   "version": "3.9.13"
  }
 },
 "nbformat": 4,
 "nbformat_minor": 5
}
