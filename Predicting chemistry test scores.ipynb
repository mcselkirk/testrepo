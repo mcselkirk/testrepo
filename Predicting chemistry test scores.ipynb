{
 "cells": [
  {
   "cell_type": "code",
   "execution_count": 1,
   "id": "e6dd89b9",
   "metadata": {},
   "outputs": [],
   "source": [
    "# The function of this notebook is to use scores on formative assignments to determine (a) what assignment scores are \n",
    "# predictors of scores on the unit assessment and (b) estimate the unit assessment score for students who have not \n",
    "# yet taken it. Goal (b) is in progress.\n",
    "\n",
    "# Import relevant libraries and packages\n",
    "\n",
    "import pandas as pd\n",
    "import matplotlib.pyplot as plt\n",
    "import numpy as np\n",
    "import seaborn as sns\n",
    "from sklearn.pipeline import Pipeline\n",
    "from sklearn.preprocessing import StandardScaler,PolynomialFeatures\n",
    "from sklearn.linear_model import LinearRegression\n",
    "%matplotlib inline"
   ]
  },
  {
   "cell_type": "code",
   "execution_count": 2,
   "id": "37ae668e",
   "metadata": {},
   "outputs": [
    {
     "data": {
      "text/html": [
       "<div>\n",
       "<style scoped>\n",
       "    .dataframe tbody tr th:only-of-type {\n",
       "        vertical-align: middle;\n",
       "    }\n",
       "\n",
       "    .dataframe tbody tr th {\n",
       "        vertical-align: top;\n",
       "    }\n",
       "\n",
       "    .dataframe thead th {\n",
       "        text-align: right;\n",
       "    }\n",
       "</style>\n",
       "<table border=\"1\" class=\"dataframe\">\n",
       "  <thead>\n",
       "    <tr style=\"text-align: right;\">\n",
       "      <th></th>\n",
       "      <th>Student_name</th>\n",
       "      <th>Student_ID</th>\n",
       "      <th>Rtest</th>\n",
       "      <th>RQuiz1</th>\n",
       "      <th>RQuiz2</th>\n",
       "      <th>IntPrac</th>\n",
       "      <th>WritPrac</th>\n",
       "    </tr>\n",
       "  </thead>\n",
       "  <tbody>\n",
       "    <tr>\n",
       "      <th>0</th>\n",
       "      <td>Student_1</td>\n",
       "      <td>1_9</td>\n",
       "      <td>57</td>\n",
       "      <td>78</td>\n",
       "      <td>72</td>\n",
       "      <td>33</td>\n",
       "      <td>94</td>\n",
       "    </tr>\n",
       "    <tr>\n",
       "      <th>1</th>\n",
       "      <td>Student_2</td>\n",
       "      <td>3_22</td>\n",
       "      <td>57</td>\n",
       "      <td>52</td>\n",
       "      <td>51</td>\n",
       "      <td>0</td>\n",
       "      <td>42</td>\n",
       "    </tr>\n",
       "    <tr>\n",
       "      <th>2</th>\n",
       "      <td>Student_3</td>\n",
       "      <td>3_24</td>\n",
       "      <td>59</td>\n",
       "      <td>83</td>\n",
       "      <td>60</td>\n",
       "      <td>94</td>\n",
       "      <td>72</td>\n",
       "    </tr>\n",
       "    <tr>\n",
       "      <th>3</th>\n",
       "      <td>Student_4</td>\n",
       "      <td>1_10</td>\n",
       "      <td>62</td>\n",
       "      <td>74</td>\n",
       "      <td>60</td>\n",
       "      <td>95</td>\n",
       "      <td>68</td>\n",
       "    </tr>\n",
       "    <tr>\n",
       "      <th>4</th>\n",
       "      <td>Student_5</td>\n",
       "      <td>3_12</td>\n",
       "      <td>62</td>\n",
       "      <td>91</td>\n",
       "      <td>81</td>\n",
       "      <td>84</td>\n",
       "      <td>98</td>\n",
       "    </tr>\n",
       "  </tbody>\n",
       "</table>\n",
       "</div>"
      ],
      "text/plain": [
       "  Student_name Student_ID  Rtest  RQuiz1  RQuiz2  IntPrac  WritPrac\n",
       "0    Student_1        1_9     57      78      72       33        94\n",
       "1    Student_2       3_22     57      52      51        0        42\n",
       "2    Student_3       3_24     59      83      60       94        72\n",
       "3    Student_4       1_10     62      74      60       95        68\n",
       "4    Student_5       3_12     62      91      81       84        98"
      ]
     },
     "execution_count": 2,
     "metadata": {},
     "output_type": "execute_result"
    }
   ],
   "source": [
    "#Import important modules and read .csv into a dataframe\n",
    "\n",
    "import pandas as pd\n",
    "\n",
    "df = pd.read_csv('testprediction_anon.csv')\n",
    "\n",
    "df.head()"
   ]
  },
  {
   "cell_type": "code",
   "execution_count": 3,
   "id": "925d37bd",
   "metadata": {},
   "outputs": [
    {
     "data": {
      "text/plain": [
       "(61, 7)"
      ]
     },
     "execution_count": 3,
     "metadata": {},
     "output_type": "execute_result"
    }
   ],
   "source": [
    "# Give size of dataset\n",
    "\n",
    "df.shape"
   ]
  },
  {
   "cell_type": "code",
   "execution_count": 4,
   "id": "3563c598",
   "metadata": {},
   "outputs": [
    {
     "data": {
      "text/html": [
       "<div>\n",
       "<style scoped>\n",
       "    .dataframe tbody tr th:only-of-type {\n",
       "        vertical-align: middle;\n",
       "    }\n",
       "\n",
       "    .dataframe tbody tr th {\n",
       "        vertical-align: top;\n",
       "    }\n",
       "\n",
       "    .dataframe thead th {\n",
       "        text-align: right;\n",
       "    }\n",
       "</style>\n",
       "<table border=\"1\" class=\"dataframe\">\n",
       "  <thead>\n",
       "    <tr style=\"text-align: right;\">\n",
       "      <th></th>\n",
       "      <th>Student_ID</th>\n",
       "      <th>Rtest</th>\n",
       "      <th>RQuiz1</th>\n",
       "      <th>RQuiz2</th>\n",
       "      <th>IntPrac</th>\n",
       "      <th>WritPrac</th>\n",
       "    </tr>\n",
       "  </thead>\n",
       "  <tbody>\n",
       "    <tr>\n",
       "      <th>0</th>\n",
       "      <td>1_9</td>\n",
       "      <td>57</td>\n",
       "      <td>78</td>\n",
       "      <td>72</td>\n",
       "      <td>33</td>\n",
       "      <td>94</td>\n",
       "    </tr>\n",
       "    <tr>\n",
       "      <th>1</th>\n",
       "      <td>3_22</td>\n",
       "      <td>57</td>\n",
       "      <td>52</td>\n",
       "      <td>51</td>\n",
       "      <td>0</td>\n",
       "      <td>42</td>\n",
       "    </tr>\n",
       "    <tr>\n",
       "      <th>2</th>\n",
       "      <td>3_24</td>\n",
       "      <td>59</td>\n",
       "      <td>83</td>\n",
       "      <td>60</td>\n",
       "      <td>94</td>\n",
       "      <td>72</td>\n",
       "    </tr>\n",
       "    <tr>\n",
       "      <th>3</th>\n",
       "      <td>1_10</td>\n",
       "      <td>62</td>\n",
       "      <td>74</td>\n",
       "      <td>60</td>\n",
       "      <td>95</td>\n",
       "      <td>68</td>\n",
       "    </tr>\n",
       "    <tr>\n",
       "      <th>4</th>\n",
       "      <td>3_12</td>\n",
       "      <td>62</td>\n",
       "      <td>91</td>\n",
       "      <td>81</td>\n",
       "      <td>84</td>\n",
       "      <td>98</td>\n",
       "    </tr>\n",
       "    <tr>\n",
       "      <th>...</th>\n",
       "      <td>...</td>\n",
       "      <td>...</td>\n",
       "      <td>...</td>\n",
       "      <td>...</td>\n",
       "      <td>...</td>\n",
       "      <td>...</td>\n",
       "    </tr>\n",
       "    <tr>\n",
       "      <th>56</th>\n",
       "      <td>3_8</td>\n",
       "      <td>99</td>\n",
       "      <td>100</td>\n",
       "      <td>97</td>\n",
       "      <td>100</td>\n",
       "      <td>98</td>\n",
       "    </tr>\n",
       "    <tr>\n",
       "      <th>57</th>\n",
       "      <td>1_27</td>\n",
       "      <td>100</td>\n",
       "      <td>91</td>\n",
       "      <td>91</td>\n",
       "      <td>98</td>\n",
       "      <td>100</td>\n",
       "    </tr>\n",
       "    <tr>\n",
       "      <th>58</th>\n",
       "      <td>1_28</td>\n",
       "      <td>100</td>\n",
       "      <td>100</td>\n",
       "      <td>98</td>\n",
       "      <td>100</td>\n",
       "      <td>100</td>\n",
       "    </tr>\n",
       "    <tr>\n",
       "      <th>59</th>\n",
       "      <td>3_1</td>\n",
       "      <td>100</td>\n",
       "      <td>100</td>\n",
       "      <td>100</td>\n",
       "      <td>98</td>\n",
       "      <td>100</td>\n",
       "    </tr>\n",
       "    <tr>\n",
       "      <th>60</th>\n",
       "      <td>3_19</td>\n",
       "      <td>100</td>\n",
       "      <td>100</td>\n",
       "      <td>89</td>\n",
       "      <td>96</td>\n",
       "      <td>97</td>\n",
       "    </tr>\n",
       "  </tbody>\n",
       "</table>\n",
       "<p>61 rows × 6 columns</p>\n",
       "</div>"
      ],
      "text/plain": [
       "   Student_ID  Rtest  RQuiz1  RQuiz2  IntPrac  WritPrac\n",
       "0         1_9     57      78      72       33        94\n",
       "1        3_22     57      52      51        0        42\n",
       "2        3_24     59      83      60       94        72\n",
       "3        1_10     62      74      60       95        68\n",
       "4        3_12     62      91      81       84        98\n",
       "..        ...    ...     ...     ...      ...       ...\n",
       "56        3_8     99     100      97      100        98\n",
       "57       1_27    100      91      91       98       100\n",
       "58       1_28    100     100      98      100       100\n",
       "59        3_1    100     100     100       98       100\n",
       "60       3_19    100     100      89       96        97\n",
       "\n",
       "[61 rows x 6 columns]"
      ]
     },
     "execution_count": 4,
     "metadata": {},
     "output_type": "execute_result"
    }
   ],
   "source": [
    "# Drop identifier column\n",
    "\n",
    "df2 = df.drop(['Student_name'], axis=1)\n",
    "df2"
   ]
  },
  {
   "cell_type": "code",
   "execution_count": 5,
   "id": "1f34a3b1",
   "metadata": {},
   "outputs": [
    {
     "name": "stdout",
     "output_type": "stream",
     "text": [
      "number of NaN values for the column Rtest : 0\n",
      "number of NaN values for the column IntPrac : 0\n"
     ]
    }
   ],
   "source": [
    "# Determine number of not-a-number cells. All should have removed in preliminary dataset cleaning.\n",
    "\n",
    "print(\"number of NaN values for the column Rtest :\", df['Rtest'].isnull().sum())\n",
    "print(\"number of NaN values for the column IntPrac :\", df['IntPrac'].isnull().sum())"
   ]
  },
  {
   "cell_type": "code",
   "execution_count": 6,
   "id": "6a861bbd",
   "metadata": {},
   "outputs": [
    {
     "data": {
      "text/plain": [
       "Student_ID    object\n",
       "Rtest          int64\n",
       "RQuiz1         int64\n",
       "RQuiz2         int64\n",
       "IntPrac        int64\n",
       "WritPrac       int64\n",
       "dtype: object"
      ]
     },
     "execution_count": 6,
     "metadata": {},
     "output_type": "execute_result"
    }
   ],
   "source": [
    "# Show types of data\n",
    "\n",
    "df2.dtypes"
   ]
  },
  {
   "cell_type": "code",
   "execution_count": 7,
   "id": "26e8ee5c",
   "metadata": {},
   "outputs": [
    {
     "name": "stdout",
     "output_type": "stream",
     "text": [
      "   Student_ID  Rtest  RQuiz1  RQuiz2  IntPrac  WritPrac\n",
      "0         1_9     57      78      72       33        94\n",
      "1        3_22     57      52      51        0        42\n",
      "2        3_24     59      83      60       94        72\n",
      "3        1_10     62      74      60       95        68\n",
      "4        3_12     62      91      81       84        98\n",
      "..        ...    ...     ...     ...      ...       ...\n",
      "56        3_8     99     100      97      100        98\n",
      "57       1_27    100      91      91       98       100\n",
      "58       1_28    100     100      98      100       100\n",
      "59        3_1    100     100     100       98       100\n",
      "60       3_19    100     100      89       96        97\n",
      "\n",
      "[61 rows x 6 columns]\n",
      "Student_name    object\n",
      "Student_ID      object\n",
      "Rtest            int32\n",
      "RQuiz1           int64\n",
      "RQuiz2           int64\n",
      "IntPrac          int64\n",
      "WritPrac         int64\n",
      "dtype: object\n"
     ]
    }
   ],
   "source": [
    "# Convert \"Rtest\" from float to int and replace NaN values\n",
    "\n",
    "df['Rtest'] = df['Rtest'].fillna(0).astype(int)\n",
    "print(df2)\n",
    "print(df.dtypes)"
   ]
  },
  {
   "cell_type": "code",
   "execution_count": 8,
   "id": "7e35bfc1",
   "metadata": {},
   "outputs": [
    {
     "data": {
      "text/plain": [
       "<AxesSubplot:xlabel='RQuiz2', ylabel='Rtest'>"
      ]
     },
     "execution_count": 8,
     "metadata": {},
     "output_type": "execute_result"
    },
    {
     "data": {
      "image/png": "[encoded data removed]",
      "text/plain": [
       "<Figure size 640x480 with 1 Axes>"
      ]
     },
     "metadata": {},
     "output_type": "display_data"
    }
   ],
   "source": [
    "# Determine if second quiz grade is correlated with test score\n",
    "\n",
    "sns.regplot(x=\"RQuiz2\", y=\"Rtest\", data=df)"
   ]
  },
  {
   "cell_type": "code",
   "execution_count": 9,
   "id": "5e23f5e6",
   "metadata": {},
   "outputs": [
    {
     "data": {
      "text/plain": [
       "WritPrac    0.218314\n",
       "IntPrac     0.270507\n",
       "RQuiz1      0.409520\n",
       "RQuiz2      0.662902\n",
       "Rtest       1.000000\n",
       "Name: Rtest, dtype: float64"
      ]
     },
     "execution_count": 9,
     "metadata": {},
     "output_type": "execute_result"
    }
   ],
   "source": [
    "# Show what feature is most correlated with test score.\n",
    "\n",
    "df.corr()['Rtest'].sort_values()"
   ]
  },
  {
   "cell_type": "code",
   "execution_count": 10,
   "id": "6119a43d",
   "metadata": {},
   "outputs": [
    {
     "data": {
      "text/plain": [
       "0.43943856066817444"
      ]
     },
     "execution_count": 10,
     "metadata": {},
     "output_type": "execute_result"
    }
   ],
   "source": [
    "# Fit a linear regression model to predict the 'test score' using the feature 'Written Practice' then calculate the R^2\n",
    "\n",
    "X = df[['RQuiz2']]\n",
    "Y = df['Rtest']\n",
    "lm = LinearRegression()\n",
    "lm.fit(X,Y)\n",
    "lm.score(X, Y)"
   ]
  },
  {
   "cell_type": "code",
   "execution_count": 11,
   "id": "1a68002f",
   "metadata": {},
   "outputs": [],
   "source": [
    "# Fit a linear regression model to predict the 'test score' using all of the formative grades.\n",
    "\n",
    "formatives = [\"RQuiz1\", \"RQuiz2\", \"IntPrac\", \"WritPrac\"]     "
   ]
  },
  {
   "cell_type": "code",
   "execution_count": 12,
   "id": "865ecf02",
   "metadata": {},
   "outputs": [
    {
     "data": {
      "text/plain": [
       "0.46580666967145923"
      ]
     },
     "execution_count": 12,
     "metadata": {},
     "output_type": "execute_result"
    }
   ],
   "source": [
    "# Calculate the R^2.\n",
    "\n",
    "X = df[formatives]\n",
    "Y = df['Rtest']\n",
    "lm = LinearRegression()\n",
    "lm.fit(X,Y)\n",
    "lm.score(X,Y)"
   ]
  },
  {
   "cell_type": "code",
   "execution_count": null,
   "id": "d456b48b",
   "metadata": {},
   "outputs": [],
   "source": []
  }
 ],
 "metadata": {
  "kernelspec": {
   "display_name": "Python 3 (ipykernel)",
   "language": "python",
   "name": "python3"
  },
  "language_info": {
   "codemirror_mode": {
    "name": "ipython",
    "version": 3
   },
   "file_extension": ".py",
   "mimetype": "text/x-python",
   "name": "python",
   "nbconvert_exporter": "python",
   "pygments_lexer": "ipython3",
   "version": "3.9.13"
  }
 },
 "nbformat": 4,
 "nbformat_minor": 5
}
